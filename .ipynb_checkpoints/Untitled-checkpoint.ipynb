{
 "cells": [
  {
   "cell_type": "code",
   "execution_count": 11,
   "metadata": {},
   "outputs": [
    {
     "name": "stdout",
     "output_type": "stream",
     "text": [
      "0\n",
      "1.4142135623730951\n",
      "-1.4142135623730951\n"
     ]
    }
   ],
   "source": [
    "from ctypes import *\n",
    "\n",
    "mydll = CDLL(\"quadratic.dll\")\n",
    "\n",
    "mydll.setA.restype = None\n",
    "mydll.setA.argtypes = [c_double]\n",
    "mydll.setB.restype = None\n",
    "mydll.setB.argtypes = [c_double]\n",
    "mydll.setC.restype = None\n",
    "mydll.setC.argtypes = [c_double]\n",
    "mydll.getSolution.argtypes = [POINTER(c_double), POINTER(c_double)]\n",
    "\n",
    "mydll.setA(2.0)\n",
    "mydll.setB(0.0)\n",
    "mydll.setC(-4.0)\n",
    "x = c_double()\n",
    "y = c_double()\n",
    "result = mydll.getSolution(byref(x), byref(y))\n",
    "#print(result)\n",
    "#print(x.value)\n",
    "#print(y.value)\n",
    "assert    result == 0\n",
    "assert      x.value == 1.4142135623730951\n",
    "assert       y.value == -1.4142135623730951\n",
    "    \n",
    "\n"
   ]
  },
  {
   "cell_type": "code",
   "execution_count": 10,
   "metadata": {},
   "outputs": [
    {
     "name": "stdout",
     "output_type": "stream",
     "text": [
      "0 1.4142135623730951 -1.4142135623730951\n"
     ]
    }
   ],
   "source": [
    "from cffi import FFI\n",
    "\n",
    "ffi = FFI()\n",
    "ffi.cdef('''\n",
    "    void setA(const double a);\n",
    "    void setB(const double b);\n",
    "    void setC(const double C);\n",
    "    int getSolution(double *x, double *y);\n",
    "''')\n",
    "\n",
    "lib = ffi.dlopen(\"quadratic.dll\")\n",
    "lib.setA(2)\n",
    "lib.setB(0)\n",
    "lib.setC(-4)\n",
    "\n",
    "x = ffi.new(\"double *\")\n",
    "y = ffi.new(\"double *\")\n",
    "result = lib.getSolution(x, y)\n",
    "print(result, x[0], y[0])\n",
    "assert x[0] == 1.4142135623730951"
   ]
  },
  {
   "cell_type": "code",
   "execution_count": 4,
   "metadata": {},
   "outputs": [
    {
     "name": "stdout",
     "output_type": "stream",
     "text": [
      "1\n",
      "c_float(0.0)\n",
      "c_float(0.0)\n"
     ]
    }
   ],
   "source": [
    "from ctypes import *\n",
    "\n",
    "# give location of dll\n",
    "mydll = cdll.LoadLibrary(\"quadratic.dll\")\n",
    "\n",
    "mydll.setA(2)\n",
    "mydll.setB(0)\n",
    "mydll.setC(-4)\n",
    "x = c_float(0)\n",
    "y = c_float(0)\n",
    "result = mydll.getSolution(byref(x), byref(y))\n",
    "print(result)\n",
    "print(x)\n",
    "print(y)"
   ]
  },
  {
   "cell_type": "code",
   "execution_count": null,
   "metadata": {},
   "outputs": [],
   "source": []
  }
 ],
 "metadata": {
  "kernelspec": {
   "display_name": "Python 3",
   "language": "python",
   "name": "python3"
  },
  "language_info": {
   "codemirror_mode": {
    "name": "ipython",
    "version": 3
   },
   "file_extension": ".py",
   "mimetype": "text/x-python",
   "name": "python",
   "nbconvert_exporter": "python",
   "pygments_lexer": "ipython3",
   "version": "3.7.4"
  }
 },
 "nbformat": 4,
 "nbformat_minor": 4
}
